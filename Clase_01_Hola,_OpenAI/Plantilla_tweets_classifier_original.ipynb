{
  "cells": [
    {
      "cell_type": "markdown",
      "metadata": {
        "id": "13877tD3TxCN"
      },
      "source": [
        "## Instalar librería de OpenAI"
      ]
    },
    {
      "cell_type": "code",
      "execution_count": null,
      "metadata": {
        "id": "Xky3yk53SGXQ"
      },
      "outputs": [],
      "source": [
        "!pip install openai"
      ]
    },
    {
      "cell_type": "markdown",
      "metadata": {
        "id": "-chXGqykT19o"
      },
      "source": [
        "## Importar librerías"
      ]
    },
    {
      "cell_type": "code",
      "execution_count": null,
      "metadata": {
        "id": "Yda6XTJ2Tiz7"
      },
      "outputs": [],
      "source": [
        "import openai"
      ]
    },
    {
      "cell_type": "markdown",
      "metadata": {
        "id": "rlk32AjFT6KU"
      },
      "source": [
        "## Cargar API Key de OpenAI"
      ]
    },
    {
      "cell_type": "code",
      "execution_count": null,
      "metadata": {
        "id": "sHehHPGPT_iS"
      },
      "outputs": [],
      "source": [
        "openai.api_key = 'Ingresa aquí tu API Key de OpenAI'"
      ]
    },
    {
      "cell_type": "markdown",
      "metadata": {
        "id": "fuKoxVYtUEVE"
      },
      "source": [
        "## Clasificador de Tweets con Completion\n",
        "\n",
        "Fuente Tweet: https://twitter.com/platzi/status/1661836230424666130"
      ]
    },
    {
      "cell_type": "code",
      "execution_count": null,
      "metadata": {
        "id": "rAydwHmcRcfn"
      },
      "outputs": [],
      "source": [
        "response = openai.Completion.create(\n",
        "  model=,\n",
        "  prompt=\"Decide si el sentimiento de un Tweet es positivo, neutral, o negativo. \\\n",
        "  \\n\\nTweet: \\\"#LoNuevoEnPlatzi es el Platzibot 🤖. Un asistente creado con Inteligencia Artificial para acompañarte en tu proceso de aprendizaje.\\\n",
        "  \\\"\\nSentiment:\",\n",
        "  temperature=,\n",
        "  max_tokens=,\n",
        "  top_p=,\n",
        "  frequency_penalty=,\n",
        "  presence_penalty=\n",
        ")"
      ]
    },
    {
      "cell_type": "markdown",
      "metadata": {
        "id": "HZsHLJOyUL4Q"
      },
      "source": [
        "## Imprimir respuesta"
      ]
    },
    {
      "cell_type": "code",
      "execution_count": null,
      "metadata": {
        "id": "VhB5V2k_SgIR"
      },
      "outputs": [],
      "source": [
        "response.choices[0].text"
      ]
    }
  ],
  "metadata": {
    "colab": {
      "provenance": []
    },
    "kernelspec": {
      "display_name": "Python 3",
      "name": "python3"
    },
    "language_info": {
      "name": "python"
    }
  },
  "nbformat": 4,
  "nbformat_minor": 0
}
